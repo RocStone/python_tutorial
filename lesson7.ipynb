{
 "cells": [
  {
   "cell_type": "code",
   "execution_count": 1,
   "id": "european-gravity",
   "metadata": {},
   "outputs": [
    {
     "name": "stdout",
     "output_type": "stream",
     "text": [
      "你好！\n"
     ]
    }
   ],
   "source": [
    "a = '你好！'\n",
    "print(a)"
   ]
  },
  {
   "cell_type": "markdown",
   "id": "european-luxury",
   "metadata": {},
   "source": [
    "# 循环的使用"
   ]
  },
  {
   "cell_type": "code",
   "execution_count": 3,
   "id": "remarkable-world",
   "metadata": {},
   "outputs": [
    {
     "name": "stdout",
     "output_type": "stream",
     "text": [
      "5050\n"
     ]
    }
   ],
   "source": [
    "result = 0\n",
    "for i in range(1, 101):\n",
    "    result += i\n",
    "print(result)"
   ]
  },
  {
   "cell_type": "code",
   "execution_count": 8,
   "id": "driving-leader",
   "metadata": {},
   "outputs": [
    {
     "name": "stdout",
     "output_type": "stream",
     "text": [
      "[0.25, 0.2631578947368421, 0.2770083102493075, 0.29158769499927106, 0.3069344157887064, 0.32308885872495413, 0.34009353549995175, 0.35799319526310713, 0.37683494238221804, 0.3966683604023348, 0.41754564252877346]\n"
     ]
    }
   ],
   "source": [
    "a = [0 for i in range(11)]\n",
    "# a[0] = int(input())\n",
    "a[0] = 0.25\n",
    "for i in range(1, 11):\n",
    "    a[i] = a[i - 1] / 0.95\n",
    "print(a)"
   ]
  }
 ],
 "metadata": {
  "kernelspec": {
   "display_name": "Python 3",
   "language": "python",
   "name": "python3"
  },
  "language_info": {
   "codemirror_mode": {
    "name": "ipython",
    "version": 3
   },
   "file_extension": ".py",
   "mimetype": "text/x-python",
   "name": "python",
   "nbconvert_exporter": "python",
   "pygments_lexer": "ipython3",
   "version": "3.8.7"
  }
 },
 "nbformat": 4,
 "nbformat_minor": 5
}
